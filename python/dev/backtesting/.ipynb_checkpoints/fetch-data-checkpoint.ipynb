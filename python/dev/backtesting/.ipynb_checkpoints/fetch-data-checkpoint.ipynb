{
 "cells": [
  {
   "cell_type": "code",
   "execution_count": 7,
   "metadata": {},
   "outputs": [
    {
     "ename": "ModuleNotFoundError",
     "evalue": "No module named 'bs4'",
     "output_type": "error",
     "traceback": [
      "\u001b[1;31m---------------------------------------------------------------------------\u001b[0m",
      "\u001b[1;31mModuleNotFoundError\u001b[0m                       Traceback (most recent call last)",
      "\u001b[1;32m<ipython-input-7-2a46bd2f6e10>\u001b[0m in \u001b[0;36m<module>\u001b[1;34m\u001b[0m\n\u001b[0;32m      2\u001b[0m \u001b[1;32mimport\u001b[0m \u001b[0murllib3\u001b[0m\u001b[1;33m\u001b[0m\u001b[1;33m\u001b[0m\u001b[0m\n\u001b[0;32m      3\u001b[0m \u001b[1;32mimport\u001b[0m \u001b[0mos\u001b[0m\u001b[1;33m\u001b[0m\u001b[1;33m\u001b[0m\u001b[0m\n\u001b[1;32m----> 4\u001b[1;33m \u001b[1;32mfrom\u001b[0m \u001b[0mbs4\u001b[0m \u001b[1;32mimport\u001b[0m \u001b[0mBeautifulSoup\u001b[0m\u001b[1;33m\u001b[0m\u001b[1;33m\u001b[0m\u001b[0m\n\u001b[0m",
      "\u001b[1;31mModuleNotFoundError\u001b[0m: No module named 'bs4'"
     ]
    }
   ],
   "source": [
    "import pandas as pd\n",
    "import urllib3\n",
    "import os"
   ]
  },
  {
   "cell_type": "code",
   "execution_count": 2,
   "metadata": {},
   "outputs": [
    {
     "data": {
      "text/plain": [
       "'C:\\\\Users\\\\Joseph\\\\Desktop\\\\projects-by-language\\\\python\\\\assignments\\\\backtesting'"
      ]
     },
     "execution_count": 2,
     "metadata": {},
     "output_type": "execute_result"
    }
   ],
   "source": [
    "os.getcwd()"
   ]
  },
  {
   "cell_type": "code",
   "execution_count": 3,
   "metadata": {},
   "outputs": [],
   "source": [
    "def construct_futures_symbols(symbol, start_year=2010, end_year=2014):\n",
    "    \"\"\"Constructs a list of futures contract codes for a \n",
    "    particular symbol and timeframe.\"\"\"\n",
    "    futures = []\n",
    "    months = 'HMUZ'  # March, June, September and December delivery codes\n",
    "    for y in range(start_year, end_year+1):\n",
    "        for m in months:\n",
    "            futures.append(\"%s%s%s\" % (symbol, m, y))\n",
    "    return futures"
   ]
  },
  {
   "cell_type": "code",
   "execution_count": 4,
   "metadata": {},
   "outputs": [],
   "source": [
    "def download_contract_from_quandl(contract, auth_token, dl_dir):\n",
    "    \"\"\"Download an individual futures contract from Quandl and then\n",
    "    store it to disk in the 'dl_dir' directory. An auth_token is \n",
    "    required, which is obtained from the Quandl upon sign-up.\"\"\"\n",
    "\n",
    "    # Construct the API call from the contract and auth_token    \n",
    "    api_call_head = \"http://www.quandl.com/api/v1/datasets/OFDP/FUTURE_%s.csv\" % contract\n",
    "    params = \"?&auth_token=%s&sort_order=asc\" % auth_token\n",
    "    \n",
    "    # Download the data from Quandl\n",
    "    http = urllib3.PoolManager()\n",
    "    r = http.request('GET', \"%s%s\" % (api_call_head, params))\n",
    "    data = r.data\n",
    "    print(data)\n",
    "    \n",
    "    # Store the data to disk\n",
    "    fc = open('%s/%s.csv' % (dl_dir, contract), 'w')\n",
    "    fc.write(data)\n",
    "    fc.close()"
   ]
  },
  {
   "cell_type": "code",
   "execution_count": 5,
   "metadata": {},
   "outputs": [],
   "source": [
    "def download_historical_contracts(symbol, auth_token, dl_dir, start_year=2010, end_year=2014):\n",
    "    \"\"\"Downloads all futures contracts for a specified symbol\n",
    "    between a start_year and an end_year.\"\"\"\n",
    "    contracts = construct_futures_symbols(symbol, start_year, end_year)\n",
    "    for c in contracts:\n",
    "        download_contract_from_quandl(c, auth_token, dl_dir)"
   ]
  },
  {
   "cell_type": "code",
   "execution_count": 6,
   "metadata": {},
   "outputs": [
    {
     "ename": "TypeError",
     "evalue": "write() argument must be str, not bytes",
     "output_type": "error",
     "traceback": [
      "\u001b[1;31m---------------------------------------------------------------------------\u001b[0m",
      "\u001b[1;31mTypeError\u001b[0m                                 Traceback (most recent call last)",
      "\u001b[1;32m<ipython-input-6-6cf771702d74>\u001b[0m in \u001b[0;36m<module>\u001b[1;34m\u001b[0m\n\u001b[0;32m      7\u001b[0m \u001b[1;33m\u001b[0m\u001b[0m\n\u001b[0;32m      8\u001b[0m     \u001b[1;31m# Download the contracts into the directory\u001b[0m\u001b[1;33m\u001b[0m\u001b[1;33m\u001b[0m\u001b[1;33m\u001b[0m\u001b[0m\n\u001b[1;32m----> 9\u001b[1;33m     \u001b[0mdownload_historical_contracts\u001b[0m\u001b[1;33m(\u001b[0m\u001b[0msymbol\u001b[0m\u001b[1;33m,\u001b[0m \u001b[0mauth_token\u001b[0m\u001b[1;33m,\u001b[0m \u001b[0mdl_dir\u001b[0m\u001b[1;33m,\u001b[0m \u001b[0mstart_year\u001b[0m\u001b[1;33m,\u001b[0m \u001b[0mend_year\u001b[0m\u001b[1;33m)\u001b[0m\u001b[1;33m\u001b[0m\u001b[1;33m\u001b[0m\u001b[0m\n\u001b[0m\u001b[0;32m     10\u001b[0m \u001b[1;33m\u001b[0m\u001b[0m\n\u001b[0;32m     11\u001b[0m     \u001b[1;31m# Open up a single contract via read_csv and plot the closing price\u001b[0m\u001b[1;33m\u001b[0m\u001b[1;33m\u001b[0m\u001b[1;33m\u001b[0m\u001b[0m\n",
      "\u001b[1;32m<ipython-input-5-120e76b12d3e>\u001b[0m in \u001b[0;36mdownload_historical_contracts\u001b[1;34m(symbol, auth_token, dl_dir, start_year, end_year)\u001b[0m\n\u001b[0;32m      4\u001b[0m     \u001b[0mcontracts\u001b[0m \u001b[1;33m=\u001b[0m \u001b[0mconstruct_futures_symbols\u001b[0m\u001b[1;33m(\u001b[0m\u001b[0msymbol\u001b[0m\u001b[1;33m,\u001b[0m \u001b[0mstart_year\u001b[0m\u001b[1;33m,\u001b[0m \u001b[0mend_year\u001b[0m\u001b[1;33m)\u001b[0m\u001b[1;33m\u001b[0m\u001b[1;33m\u001b[0m\u001b[0m\n\u001b[0;32m      5\u001b[0m     \u001b[1;32mfor\u001b[0m \u001b[0mc\u001b[0m \u001b[1;32min\u001b[0m \u001b[0mcontracts\u001b[0m\u001b[1;33m:\u001b[0m\u001b[1;33m\u001b[0m\u001b[1;33m\u001b[0m\u001b[0m\n\u001b[1;32m----> 6\u001b[1;33m         \u001b[0mdownload_contract_from_quandl\u001b[0m\u001b[1;33m(\u001b[0m\u001b[0mc\u001b[0m\u001b[1;33m,\u001b[0m \u001b[0mauth_token\u001b[0m\u001b[1;33m,\u001b[0m \u001b[0mdl_dir\u001b[0m\u001b[1;33m)\u001b[0m\u001b[1;33m\u001b[0m\u001b[1;33m\u001b[0m\u001b[0m\n\u001b[0m",
      "\u001b[1;32m<ipython-input-4-b1d919d406a2>\u001b[0m in \u001b[0;36mdownload_contract_from_quandl\u001b[1;34m(contract, auth_token, dl_dir)\u001b[0m\n\u001b[0;32m     15\u001b[0m     \u001b[1;31m# Store the data to disk\u001b[0m\u001b[1;33m\u001b[0m\u001b[1;33m\u001b[0m\u001b[1;33m\u001b[0m\u001b[0m\n\u001b[0;32m     16\u001b[0m     \u001b[0mfc\u001b[0m \u001b[1;33m=\u001b[0m \u001b[0mopen\u001b[0m\u001b[1;33m(\u001b[0m\u001b[1;34m'%s/%s.csv'\u001b[0m \u001b[1;33m%\u001b[0m \u001b[1;33m(\u001b[0m\u001b[0mdl_dir\u001b[0m\u001b[1;33m,\u001b[0m \u001b[0mcontract\u001b[0m\u001b[1;33m)\u001b[0m\u001b[1;33m,\u001b[0m \u001b[1;34m'w'\u001b[0m\u001b[1;33m)\u001b[0m\u001b[1;33m\u001b[0m\u001b[1;33m\u001b[0m\u001b[0m\n\u001b[1;32m---> 17\u001b[1;33m     \u001b[0mfc\u001b[0m\u001b[1;33m.\u001b[0m\u001b[0mwrite\u001b[0m\u001b[1;33m(\u001b[0m\u001b[0mdata\u001b[0m\u001b[1;33m)\u001b[0m\u001b[1;33m\u001b[0m\u001b[1;33m\u001b[0m\u001b[0m\n\u001b[0m\u001b[0;32m     18\u001b[0m     \u001b[0mfc\u001b[0m\u001b[1;33m.\u001b[0m\u001b[0mclose\u001b[0m\u001b[1;33m(\u001b[0m\u001b[1;33m)\u001b[0m\u001b[1;33m\u001b[0m\u001b[1;33m\u001b[0m\u001b[0m\n",
      "\u001b[1;31mTypeError\u001b[0m: write() argument must be str, not bytes"
     ]
    }
   ],
   "source": [
    "if __name__ == \"__main__\":\n",
    "    symbol = 'ES'\n",
    "    dl_dir = 'C:\\\\Users\\\\Joseph\\\\Desktop\\\\projects-by-language\\\\python\\\\assignments\\\\backtesting\\\\data'  # Make sure you've created this relative directory beforehand\n",
    "    auth_token = 'yZBffFw6dH7FeK5sdXq9'  # Replace this with your authorisation token\n",
    "    start_year = 2010\n",
    "    end_year = 2014\n",
    "\n",
    "    # Download the contracts into the directory\n",
    "    download_historical_contracts(symbol, auth_token, dl_dir, start_year, end_year)\n",
    "\n",
    "    # Open up a single contract via read_csv and plot the closing price\n",
    "    es = pd.io.parsers.read_csv(\"%s/ESZ2014.csv\" % dl_dir)"
   ]
  },
  {
   "cell_type": "code",
   "execution_count": null,
   "metadata": {},
   "outputs": [],
   "source": [
    "plot(es['Settle'])"
   ]
  }
 ],
 "metadata": {
  "kernelspec": {
   "display_name": "Python 3",
   "language": "python",
   "name": "python3"
  },
  "language_info": {
   "codemirror_mode": {
    "name": "ipython",
    "version": 3
   },
   "file_extension": ".py",
   "mimetype": "text/x-python",
   "name": "python",
   "nbconvert_exporter": "python",
   "pygments_lexer": "ipython3",
   "version": "3.7.5"
  }
 },
 "nbformat": 4,
 "nbformat_minor": 2
}
