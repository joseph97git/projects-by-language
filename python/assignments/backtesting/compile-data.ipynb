{
 "cells": [
  {
   "cell_type": "code",
   "execution_count": 1,
   "metadata": {},
   "outputs": [],
   "source": [
    "# import libraries\n",
    "import matplotlib.pyplot as plt\n",
    "import numpy as np\n",
    "import pandas as pd\n",
    "import os"
   ]
  },
  {
   "cell_type": "code",
   "execution_count": 2,
   "metadata": {},
   "outputs": [
    {
     "data": {
      "text/plain": [
       "'C:\\\\Users\\\\Joseph\\\\Desktop\\\\projects-by-language\\\\python\\\\assignments\\\\backtesting'"
      ]
     },
     "execution_count": 2,
     "metadata": {},
     "output_type": "execute_result"
    }
   ],
   "source": [
    "# get current workign directory\n",
    "os.getcwd()"
   ]
  },
  {
   "cell_type": "code",
   "execution_count": 3,
   "metadata": {},
   "outputs": [],
   "source": [
    "# define sp-futures directory\n",
    "directory = 'C:\\\\Users\\\\Joseph\\\\Desktop\\\\projects-by-language\\\\python\\\\assignments\\\\backtesting\\\\data\\\\sp-futures'"
   ]
  },
  {
   "cell_type": "code",
   "execution_count": 4,
   "metadata": {},
   "outputs": [],
   "source": [
    "# import data\n",
    "price_data = pd.read_csv('C:\\\\Users\\\\Joseph\\\\Desktop\\\\projects-by-language\\\\python\\\\assignments\\\\backtesting\\\\data\\\\sp-futures\\\\SP00H.txt')"
   ]
  },
  {
   "cell_type": "code",
   "execution_count": 5,
   "metadata": {},
   "outputs": [
    {
     "data": {
      "text/html": [
       "<div>\n",
       "<style scoped>\n",
       "    .dataframe tbody tr th:only-of-type {\n",
       "        vertical-align: middle;\n",
       "    }\n",
       "\n",
       "    .dataframe tbody tr th {\n",
       "        vertical-align: top;\n",
       "    }\n",
       "\n",
       "    .dataframe thead th {\n",
       "        text-align: right;\n",
       "    }\n",
       "</style>\n",
       "<table border=\"1\" class=\"dataframe\">\n",
       "  <thead>\n",
       "    <tr style=\"text-align: right;\">\n",
       "      <th></th>\n",
       "      <th>Date</th>\n",
       "      <th>Open</th>\n",
       "      <th>High</th>\n",
       "      <th>Low</th>\n",
       "      <th>Close</th>\n",
       "      <th>Volume</th>\n",
       "      <th>OpenInt</th>\n",
       "    </tr>\n",
       "  </thead>\n",
       "  <tbody>\n",
       "    <tr>\n",
       "      <th>0</th>\n",
       "      <td>03/23/1998</td>\n",
       "      <td>1193.5</td>\n",
       "      <td>1193.5</td>\n",
       "      <td>1193.5</td>\n",
       "      <td>1193.5</td>\n",
       "      <td>0</td>\n",
       "      <td>0</td>\n",
       "    </tr>\n",
       "    <tr>\n",
       "      <th>1</th>\n",
       "      <td>03/24/1998</td>\n",
       "      <td>1202.8</td>\n",
       "      <td>1202.8</td>\n",
       "      <td>1202.8</td>\n",
       "      <td>1202.8</td>\n",
       "      <td>0</td>\n",
       "      <td>0</td>\n",
       "    </tr>\n",
       "    <tr>\n",
       "      <th>2</th>\n",
       "      <td>03/25/1998</td>\n",
       "      <td>1208.0</td>\n",
       "      <td>1208.0</td>\n",
       "      <td>1199.7</td>\n",
       "      <td>1199.7</td>\n",
       "      <td>2</td>\n",
       "      <td>1</td>\n",
       "    </tr>\n",
       "    <tr>\n",
       "      <th>3</th>\n",
       "      <td>03/26/1998</td>\n",
       "      <td>1198.8</td>\n",
       "      <td>1198.8</td>\n",
       "      <td>1198.8</td>\n",
       "      <td>1198.8</td>\n",
       "      <td>0</td>\n",
       "      <td>1</td>\n",
       "    </tr>\n",
       "    <tr>\n",
       "      <th>4</th>\n",
       "      <td>03/27/1998</td>\n",
       "      <td>1195.5</td>\n",
       "      <td>1195.5</td>\n",
       "      <td>1195.5</td>\n",
       "      <td>1195.5</td>\n",
       "      <td>0</td>\n",
       "      <td>1</td>\n",
       "    </tr>\n",
       "  </tbody>\n",
       "</table>\n",
       "</div>"
      ],
      "text/plain": [
       "         Date    Open    High     Low   Close  Volume  OpenInt\n",
       "0  03/23/1998  1193.5  1193.5  1193.5  1193.5       0        0\n",
       "1  03/24/1998  1202.8  1202.8  1202.8  1202.8       0        0\n",
       "2  03/25/1998  1208.0  1208.0  1199.7  1199.7       2        1\n",
       "3  03/26/1998  1198.8  1198.8  1198.8  1198.8       0        1\n",
       "4  03/27/1998  1195.5  1195.5  1195.5  1195.5       0        1"
      ]
     },
     "execution_count": 5,
     "metadata": {},
     "output_type": "execute_result"
    }
   ],
   "source": [
    "# scope data \n",
    "price_data.head()"
   ]
  },
  {
   "cell_type": "code",
   "execution_count": 6,
   "metadata": {},
   "outputs": [
    {
     "name": "stdout",
     "output_type": "stream",
     "text": [
      "<class 'pandas.core.frame.DataFrame'>\n",
      "RangeIndex: 502 entries, 0 to 501\n",
      "Data columns (total 7 columns):\n",
      "Date       502 non-null object\n",
      "Open       502 non-null float64\n",
      "High       502 non-null float64\n",
      "Low        502 non-null float64\n",
      "Close      502 non-null float64\n",
      "Volume     502 non-null int64\n",
      "OpenInt    502 non-null int64\n",
      "dtypes: float64(4), int64(2), object(1)\n",
      "memory usage: 27.5+ KB\n"
     ]
    }
   ],
   "source": [
    "# get var info\n",
    "price_data.info()"
   ]
  },
  {
   "cell_type": "code",
   "execution_count": 7,
   "metadata": {},
   "outputs": [],
   "source": [
    "# combine all data files\n",
    "tmp_df = pd.DataFrame(columns=[\"Date\", \"Open\", \"High\", \"Low\", \"Close\", \"Volume\", \"OpenInt\"])\n",
    "for filename in os.listdir(directory):\n",
    "    price_dat = pd.read_csv(directory + '\\\\' + filename, header=0, names=[\"Date\", \"Open\", \"High\", \"Low\", \"Close\", \"Volume\", \"OpenInt\"])\n",
    "    tmp_df = pd.concat([tmp_df, price_dat], axis=0, ignore_index=True)\n",
    "compiled_data = tmp_df"
   ]
  },
  {
   "cell_type": "code",
   "execution_count": 8,
   "metadata": {},
   "outputs": [
    {
     "data": {
      "text/html": [
       "<div>\n",
       "<style scoped>\n",
       "    .dataframe tbody tr th:only-of-type {\n",
       "        vertical-align: middle;\n",
       "    }\n",
       "\n",
       "    .dataframe tbody tr th {\n",
       "        vertical-align: top;\n",
       "    }\n",
       "\n",
       "    .dataframe thead th {\n",
       "        text-align: right;\n",
       "    }\n",
       "</style>\n",
       "<table border=\"1\" class=\"dataframe\">\n",
       "  <thead>\n",
       "    <tr style=\"text-align: right;\">\n",
       "      <th></th>\n",
       "      <th>Date</th>\n",
       "      <th>Open</th>\n",
       "      <th>High</th>\n",
       "      <th>Low</th>\n",
       "      <th>Close</th>\n",
       "      <th>Volume</th>\n",
       "      <th>OpenInt</th>\n",
       "    </tr>\n",
       "  </thead>\n",
       "  <tbody>\n",
       "    <tr>\n",
       "      <th>0</th>\n",
       "      <td>03/23/1998</td>\n",
       "      <td>1193.5</td>\n",
       "      <td>1193.5</td>\n",
       "      <td>1193.5</td>\n",
       "      <td>1193.5</td>\n",
       "      <td>0</td>\n",
       "      <td>0</td>\n",
       "    </tr>\n",
       "    <tr>\n",
       "      <th>1</th>\n",
       "      <td>03/24/1998</td>\n",
       "      <td>1202.8</td>\n",
       "      <td>1202.8</td>\n",
       "      <td>1202.8</td>\n",
       "      <td>1202.8</td>\n",
       "      <td>0</td>\n",
       "      <td>0</td>\n",
       "    </tr>\n",
       "    <tr>\n",
       "      <th>2</th>\n",
       "      <td>03/25/1998</td>\n",
       "      <td>1208.0</td>\n",
       "      <td>1208.0</td>\n",
       "      <td>1199.7</td>\n",
       "      <td>1199.7</td>\n",
       "      <td>2</td>\n",
       "      <td>1</td>\n",
       "    </tr>\n",
       "    <tr>\n",
       "      <th>3</th>\n",
       "      <td>03/26/1998</td>\n",
       "      <td>1198.8</td>\n",
       "      <td>1198.8</td>\n",
       "      <td>1198.8</td>\n",
       "      <td>1198.8</td>\n",
       "      <td>0</td>\n",
       "      <td>1</td>\n",
       "    </tr>\n",
       "    <tr>\n",
       "      <th>4</th>\n",
       "      <td>03/27/1998</td>\n",
       "      <td>1195.5</td>\n",
       "      <td>1195.5</td>\n",
       "      <td>1195.5</td>\n",
       "      <td>1195.5</td>\n",
       "      <td>0</td>\n",
       "      <td>1</td>\n",
       "    </tr>\n",
       "  </tbody>\n",
       "</table>\n",
       "</div>"
      ],
      "text/plain": [
       "         Date    Open    High     Low   Close Volume OpenInt\n",
       "0  03/23/1998  1193.5  1193.5  1193.5  1193.5      0       0\n",
       "1  03/24/1998  1202.8  1202.8  1202.8  1202.8      0       0\n",
       "2  03/25/1998  1208.0  1208.0  1199.7  1199.7      2       1\n",
       "3  03/26/1998  1198.8  1198.8  1198.8  1198.8      0       1\n",
       "4  03/27/1998  1195.5  1195.5  1195.5  1195.5      0       1"
      ]
     },
     "execution_count": 8,
     "metadata": {},
     "output_type": "execute_result"
    }
   ],
   "source": [
    "# scope compiled data\n",
    "compiled_data.head()"
   ]
  },
  {
   "cell_type": "code",
   "execution_count": 9,
   "metadata": {},
   "outputs": [
    {
     "name": "stdout",
     "output_type": "stream",
     "text": [
      "<class 'pandas.core.frame.DataFrame'>\n",
      "RangeIndex: 24136 entries, 0 to 24135\n",
      "Data columns (total 7 columns):\n",
      "Date       24136 non-null object\n",
      "Open       24136 non-null float64\n",
      "High       24136 non-null float64\n",
      "Low        24136 non-null float64\n",
      "Close      24136 non-null float64\n",
      "Volume     24136 non-null object\n",
      "OpenInt    24136 non-null object\n",
      "dtypes: float64(4), object(3)\n",
      "memory usage: 1.3+ MB\n"
     ]
    }
   ],
   "source": [
    "# check info\n",
    "compiled_data.info()"
   ]
  },
  {
   "cell_type": "code",
   "execution_count": 10,
   "metadata": {},
   "outputs": [],
   "source": [
    "# export comipled data to csv\n",
    "compiled_data.to_csv('C:\\\\Users\\\\Joseph\\\\Desktop\\\\projects-by-language\\\\python\\\\assignments\\\\backtesting\\\\data\\\\sp-futures.csv')"
   ]
  }
 ],
 "metadata": {
  "kernelspec": {
   "display_name": "Python 3",
   "language": "python",
   "name": "python3"
  },
  "language_info": {
   "codemirror_mode": {
    "name": "ipython",
    "version": 3
   },
   "file_extension": ".py",
   "mimetype": "text/x-python",
   "name": "python",
   "nbconvert_exporter": "python",
   "pygments_lexer": "ipython3",
   "version": "3.7.3"
  }
 },
 "nbformat": 4,
 "nbformat_minor": 2
}
